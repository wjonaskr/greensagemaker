{
 "cells": [
  {
   "cell_type": "code",
   "execution_count": 29,
   "id": "8b4b2d3b-d706-425a-8aa4-e3bd40d4e9a5",
   "metadata": {},
   "outputs": [],
   "source": [
    "import boto3, sagemaker, joblib, os, tarfile, subprocess, time\n",
    "from datetime import datetime\n",
    "from sklearn.linear_model import LinearRegression\n",
    "from sklearn.datasets import make_regression\n",
    "from sagemaker.model import Model\n",
    "from sagemaker.async_inference import AsyncInferenceConfig\n",
    "import json\n",
    "\n",
    "# SageMaker 세션 및 역할 설정\n",
    "sagemaker_session = sagemaker.Session()\n",
    "#model_data = \"s3://greenenergy-ai-app-d-an2-s3-gem/sagemaker-models/async-20250729100023/model.tar.gz\""
   ]
  },
  {
   "cell_type": "code",
   "execution_count": 30,
   "id": "e40201fd-29d9-478f-aba2-0656aa6fffe8",
   "metadata": {},
   "outputs": [],
   "source": [
    "role = sagemaker.get_execution_role()"
   ]
  },
  {
   "cell_type": "code",
   "execution_count": 31,
   "id": "377e4fc3-9671-4c1a-a104-5a54bf7ca8ca",
   "metadata": {},
   "outputs": [],
   "source": [
    "region = boto3.Session().region_name"
   ]
  },
  {
   "cell_type": "code",
   "execution_count": 33,
   "id": "69f32346-fe0d-4165-a37c-d74a9524fc9e",
   "metadata": {},
   "outputs": [],
   "source": [
    "account_id = sagemaker_session.account_id()"
   ]
  },
  {
   "cell_type": "code",
   "execution_count": 34,
   "id": "086c5995-d5f6-4600-b0d5-616aa06fb835",
   "metadata": {},
   "outputs": [
    {
     "name": "stdout",
     "output_type": "stream",
     "text": [
      "role :arn:aws:iam::154126116352:role/service-role/AmazonSageMakerServiceCatalogProductsUseRole\n",
      "region :ap-northeast-2\n",
      "id :154126116352\n"
     ]
    }
   ],
   "source": [
    "print(\"role :\" + role)\n",
    "print(\"region :\" + region)\n",
    "print(\"id :\" + account_id)"
   ]
  },
  {
   "cell_type": "code",
   "execution_count": 35,
   "id": "c98f4795-204f-4be9-b660-f4f324828bea",
   "metadata": {},
   "outputs": [
    {
     "name": "stdout",
     "output_type": "stream",
     "text": [
      "✅ 모델 생성 완료 - R²: 1.0000\n"
     ]
    }
   ],
   "source": [
    "# 모델 생성\n",
    "X, y = make_regression(n_samples=100, n_features=2, random_state=42)\n",
    "model = LinearRegression().fit(X, y)\n",
    "os.makedirs('model', exist_ok=True)\n",
    "joblib.dump(model, 'model/model.joblib')\n",
    "print(f\"✅ 모델 생성 완료 - R²: {model.score(X, y):.4f}\")"
   ]
  },
  {
   "cell_type": "code",
   "execution_count": 36,
   "id": "aae2b53d-e311-4be5-a26a-d84e5fbcf151",
   "metadata": {},
   "outputs": [
    {
     "name": "stdout",
     "output_type": "stream",
     "text": [
      "✅ 컨테이너 파일 생성 완료 (Async 최적화)\n"
     ]
    }
   ],
   "source": [
    "# 컨테이너 파일 생성 (Async용)\n",
    "os.makedirs('container', exist_ok=True)\n",
    "\n",
    "# predictor.py (Async 처리 최적화)\n",
    "predictor = '''import joblib, numpy as np, json, os\n",
    "from flask import Flask, request, jsonify\n",
    "\n",
    "app = Flask(__name__)\n",
    "model = joblib.load('/opt/ml/model/model.joblib')\n",
    "\n",
    "@app.route('/ping')\n",
    "def ping():\n",
    "    return jsonify({'status': 'healthy'})\n",
    "\n",
    "@app.route('/invocations', methods=['POST'])\n",
    "def predict():\n",
    "    try:\n",
    "        # Content-Type 확인\n",
    "        content_type = request.content_type\n",
    "        \n",
    "        if content_type == 'application/json':\n",
    "            data = request.get_json()\n",
    "        else:\n",
    "            # 텍스트 데이터 처리 (CSV 등)\n",
    "            data_str = request.data.decode('utf-8')\n",
    "            data = json.loads(data_str)\n",
    "        \n",
    "        instances = data.get('instances', data)\n",
    "        \n",
    "        # 대용량 데이터 처리를 위한 배치 처리\n",
    "        if isinstance(instances, list) and len(instances) > 1000:\n",
    "            print(f\"Processing large batch: {len(instances)} instances\")\n",
    "        \n",
    "        predictions = model.predict(np.array(instances))\n",
    "        \n",
    "        return jsonify({\n",
    "            'predictions': predictions.tolist(),\n",
    "            'batch_size': len(instances),\n",
    "            'model_type': 'LinearRegression'\n",
    "        })\n",
    "        \n",
    "    except Exception as e:\n",
    "        return jsonify({'error': str(e)}), 500\n",
    "\n",
    "if __name__ == '__main__':\n",
    "    app.run(host='0.0.0.0', port=8080)\n",
    "'''\n",
    "\n",
    "# Dockerfile\n",
    "dockerfile = '''FROM python:3.8-slim\n",
    "RUN pip install flask scikit-learn joblib numpy\n",
    "COPY predictor.py /opt/program/predictor.py\n",
    "WORKDIR /opt/program\n",
    "EXPOSE 8080\n",
    "ENTRYPOINT [\"python\", \"predictor.py\"]\n",
    "'''\n",
    "\n",
    "with open('container/predictor.py', 'w') as f: f.write(predictor)\n",
    "with open('container/Dockerfile', 'w') as f: f.write(dockerfile)\n",
    "\n",
    "print(\"✅ 컨테이너 파일 생성 완료 (Async 최적화)\")"
   ]
  },
  {
   "cell_type": "code",
   "execution_count": 37,
   "id": "c3fb028c-2ab4-40e7-9c4f-829adb535b4d",
   "metadata": {},
   "outputs": [
    {
     "name": "stdout",
     "output_type": "stream",
     "text": [
      "ℹ️  ECR 리포지토리 이미 존재: ns-gem/sagemaker\n",
      "📦 ECR URI: 154126116352.dkr.ecr.ap-northeast-2.amazonaws.com/ns-gem/sagemaker\n"
     ]
    }
   ],
   "source": [
    "# ECR 설정\n",
    "ecr = boto3.client('ecr')\n",
    "repo_name = 'ns-gem/sagemaker'\n",
    "try:\n",
    "    ecr.create_repository(repositoryName=repo_name)\n",
    "    print(f\"✅ ECR 리포지토리 생성: {repo_name}\")\n",
    "except ecr.exceptions.RepositoryAlreadyExistsException:\n",
    "    print(f\"ℹ️  ECR 리포지토리 이미 존재: {repo_name}\")\n",
    "except Exception as e:\n",
    "    print(f\"ℹ️  ECR 설정: {str(e)}\")\n",
    "\n",
    "repo_uri = f\"{account_id}.dkr.ecr.{region}.amazonaws.com/{repo_name}\"\n",
    "print(f\"📦 ECR URI: {repo_uri}\")"
   ]
  },
  {
   "cell_type": "code",
   "execution_count": 38,
   "id": "de84a39c-4b59-4d33-9f9f-ab1022814415",
   "metadata": {},
   "outputs": [
    {
     "name": "stdout",
     "output_type": "stream",
     "text": [
      "🔨 Docker 빌드 & 푸시 시작...\n",
      "✅ Docker 빌드 & 푸시 완료\n",
      "  5f70bf18a086: Pushed\n",
      "  87c4e28e31d5: Pushed\n",
      "  async: digest: sha256:086f2981fd0f2f850f1a73fbf448e950299cdfe9f859373b5004044b06d78edc size: 1785\n",
      "  ✅ 완료!\n"
     ]
    }
   ],
   "source": [
    "# Docker 빌드 & 푸시\n",
    "build_script = f'''#!/bin/bash\n",
    "set -e\n",
    "echo \"🔐 ECR 로그인...\"\n",
    "aws ecr get-login-password --region {region} | docker login --username AWS --password-stdin {account_id}.dkr.ecr.{region}.amazonaws.com\n",
    "\n",
    "echo \"🔨 Docker 빌드...\"\n",
    "cd container\n",
    "docker build --platform linux/amd64 -t ns-gem-async .\n",
    "\n",
    "echo \"🏷️  태그 설정...\"\n",
    "docker tag ns-gem-async:latest {repo_uri}:async\n",
    "\n",
    "echo \"📤 ECR 푸시...\"\n",
    "docker push {repo_uri}:async\n",
    "\n",
    "echo \"✅ 완료!\"\n",
    "'''\n",
    "\n",
    "with open('build_async.sh', 'w') as f: f.write(build_script)\n",
    "os.chmod('build_async.sh', 0o755)\n",
    "\n",
    "print(\"🔨 Docker 빌드 & 푸시 시작...\")\n",
    "result = subprocess.run(['bash', 'build_async.sh'], capture_output=True, text=True)\n",
    "\n",
    "if result.returncode == 0:\n",
    "    print(\"✅ Docker 빌드 & 푸시 완료\")\n",
    "    # 마지막 몇 줄만 출력\n",
    "    output_lines = result.stdout.split('\\n')\n",
    "    for line in output_lines[-5:]:\n",
    "        if line.strip():\n",
    "            print(f\"  {line}\")\n",
    "else:\n",
    "    print(f\"❌ 빌드 실패\")\n",
    "    print(f\"STDOUT: {result.stdout}\")\n",
    "    print(f\"STDERR: {result.stderr}\")"
   ]
  },
  {
   "cell_type": "code",
   "execution_count": 39,
   "id": "92012cda-9b28-4c81-a42d-d892ae6a9d53",
   "metadata": {},
   "outputs": [
    {
     "name": "stdout",
     "output_type": "stream",
     "text": [
      "📦 모델 S3 업로드 중...\n",
      "✅ 모델 업로드 완료: s3://greenenergy-ai-app-d-an2-s3-gem/sagemaker-models/async-20250903053305-test/model.tar.gz\n"
     ]
    }
   ],
   "source": [
    "# 모델 S3 업로드\n",
    "print(\"📦 모델 S3 업로드 중...\")\n",
    "bucket_name = 'greenenergy-ai-app-d-an2-s3-gem'\n",
    "with tarfile.open('model.tar.gz', 'w:gz') as tar:\n",
    "    tar.add('model/model.joblib', arcname='model.joblib')\n",
    "\n",
    "# 지정된 S3 버킷 사용\n",
    "s3 = boto3.client('s3')\n",
    "timestamp = datetime.now().strftime('%Y%m%d%H%M%S')\n",
    "s3_key = f'sagemaker-models/async-{timestamp}-test/model.tar.gz'\n",
    "\n",
    "s3.upload_file('model.tar.gz', bucket_name, s3_key)\n",
    "model_uri = f's3://{bucket_name}/{s3_key}'\n",
    "\n",
    "print(f\"✅ 모델 업로드 완료: {model_uri}\")"
   ]
  },
  {
   "cell_type": "code",
   "execution_count": 17,
   "id": "633afaa2-6b80-4190-9bea-d88a356b28b8",
   "metadata": {},
   "outputs": [],
   "source": [
    "image_uri = sagemaker.image_uris.retrieve(\n",
    "    framework=\"pytorch\", \n",
    "    region=region,\n",
    "    version=\"1.12\",\n",
    "    py_version=\"py38\",\n",
    "    instance_type=\"ml.m5.large\",\n",
    "    image_scope=\"inference\" \n",
    ")"
   ]
  },
  {
   "cell_type": "code",
   "execution_count": 40,
   "id": "2f00a441-deb7-44ee-bc14-4ae8d514d562",
   "metadata": {},
   "outputs": [],
   "source": [
    "# 모델 생성\n",
    "model_data=model_uri\n",
    "model = Model(\n",
    "    image_uri=image_uri,\n",
    "    model_data=model_data,\n",
    "    role=role,\n",
    "    sagemaker_session=sagemaker_session\n",
    ")"
   ]
  },
  {
   "cell_type": "code",
   "execution_count": 41,
   "id": "e5041890-1aa4-4ad1-871c-faf73ce45c01",
   "metadata": {},
   "outputs": [],
   "source": [
    "# Async Inference 설정\n",
    "from sagemaker.async_inference import AsyncInferenceConfig\n",
    "\n",
    "async_config = AsyncInferenceConfig(\n",
    "    output_path=\"s3://greenenergy-ai-app-d-an2-s3-gem/async-inference/output/\",\n",
    "    max_concurrent_invocations_per_instance=4,\n",
    "    failure_path=\"s3://greenenergy-ai-app-d-an2-s3-gem/async-inference/error/\"\n",
    ")"
   ]
  },
  {
   "cell_type": "code",
   "execution_count": 42,
   "id": "470a1f80-ebaa-4cb2-a407-c088e4fc2b3d",
   "metadata": {},
   "outputs": [
    {
     "name": "stdout",
     "output_type": "stream",
     "text": [
      "------!"
     ]
    }
   ],
   "source": [
    "# Async Endpoint 배포\n",
    "try:\n",
    "    predictor = model.deploy(\n",
    "        initial_instance_count=1,\n",
    "        instance_type=\"ml.m5.large\",\n",
    "        async_inference_config=async_config,\n",
    "        endpoint_name=\"test-async-endpoint2\"  # 선택사항\n",
    "    )\n",
    "\n",
    "except Exception as e:\n",
    "    print(f\"❌ 배포 중 오류: {str(e)}\")\n",
    "\n"
   ]
  },
  {
   "cell_type": "code",
   "execution_count": 55,
   "id": "a8cd3c52-3add-48cf-8638-a70e61711d2b",
   "metadata": {},
   "outputs": [
    {
     "name": "stdout",
     "output_type": "stream",
     "text": [
      "✅ Predictor 객체 수동 생성 완료\n"
     ]
    }
   ],
   "source": [
    "predictor = Predictor(\n",
    "    endpoint_name=\"test-async-endpoint3\",\n",
    "    sagemaker_session=sagemaker_session,\n",
    "    serializer=sagemaker.serializers.JSONSerializer(),\n",
    "    deserializer=sagemaker.deserializers.JSONDeserializer()\n",
    ")\n",
    "\n",
    "print(\"✅ Predictor 객체 수동 생성 완료\")"
   ]
  },
  {
   "cell_type": "code",
   "execution_count": 48,
   "id": "039d3fa8-bbbc-49b9-928d-468bce6d39c4",
   "metadata": {},
   "outputs": [],
   "source": [
    "input_s3_uri = \"s3://greenenergy-ai-app-d-an2-s3-gem/async-inference-input/test-20250729100023.json\""
   ]
  },
  {
   "cell_type": "code",
   "execution_count": 27,
   "id": "c61bdf0f-3624-4aa6-8e89-7f8175705f97",
   "metadata": {},
   "outputs": [
    {
     "data": {
      "text/html": [
       "<pre style=\"white-space:pre;overflow-x:auto;line-height:normal;font-family:Menlo,'DejaVu Sans Mono',consolas,'Courier New',monospace\"><span style=\"color: #ff0000; text-decoration-color: #ff0000\">╭─────────────────────────────── </span><span style=\"color: #ff0000; text-decoration-color: #ff0000; font-weight: bold\">Traceback </span><span style=\"color: #ff7f7f; text-decoration-color: #ff7f7f; font-weight: bold\">(most recent call last)</span><span style=\"color: #ff0000; text-decoration-color: #ff0000\"> ────────────────────────────────╮</span>\n",
       "<span style=\"color: #ff0000; text-decoration-color: #ff0000\">│</span> in &lt;module&gt;:1                                                                                    <span style=\"color: #ff0000; text-decoration-color: #ff0000\">│</span>\n",
       "<span style=\"color: #ff0000; text-decoration-color: #ff0000\">│</span>                                                                                                  <span style=\"color: #ff0000; text-decoration-color: #ff0000\">│</span>\n",
       "<span style=\"color: #ff0000; text-decoration-color: #ff0000\">│</span> <span style=\"color: #800000; text-decoration-color: #800000\">❱ </span>1 response = predictor.predict_async(                                                          <span style=\"color: #ff0000; text-decoration-color: #ff0000\">│</span>\n",
       "<span style=\"color: #ff0000; text-decoration-color: #ff0000\">│</span>   <span style=\"color: #7f7f7f; text-decoration-color: #7f7f7f\">2 </span><span style=\"color: #7f7f7f; text-decoration-color: #7f7f7f\">│   </span>data=input_data,                                                                         <span style=\"color: #ff0000; text-decoration-color: #ff0000\">│</span>\n",
       "<span style=\"color: #ff0000; text-decoration-color: #ff0000\">│</span>   <span style=\"color: #7f7f7f; text-decoration-color: #7f7f7f\">3 </span><span style=\"color: #7f7f7f; text-decoration-color: #7f7f7f\">│   </span>input_path=input_data                                                                    <span style=\"color: #ff0000; text-decoration-color: #ff0000\">│</span>\n",
       "<span style=\"color: #ff0000; text-decoration-color: #ff0000\">│</span>   <span style=\"color: #7f7f7f; text-decoration-color: #7f7f7f\">4 </span>)                                                                                            <span style=\"color: #ff0000; text-decoration-color: #ff0000\">│</span>\n",
       "<span style=\"color: #ff0000; text-decoration-color: #ff0000\">╰──────────────────────────────────────────────────────────────────────────────────────────────────╯</span>\n",
       "<span style=\"color: #ff0000; text-decoration-color: #ff0000; font-weight: bold\">AttributeError: </span><span style=\"color: #008700; text-decoration-color: #008700\">'NoneType'</span> object has no attribute <span style=\"color: #008700; text-decoration-color: #008700\">'predict_async'</span>\n",
       "</pre>\n"
      ],
      "text/plain": [
       "\u001b[38;2;255;0;0m╭─\u001b[0m\u001b[38;2;255;0;0m──────────────────────────────\u001b[0m\u001b[38;2;255;0;0m \u001b[0m\u001b[1;38;2;255;0;0mTraceback \u001b[0m\u001b[1;2;38;2;255;0;0m(most recent call last)\u001b[0m\u001b[38;2;255;0;0m \u001b[0m\u001b[38;2;255;0;0m───────────────────────────────\u001b[0m\u001b[38;2;255;0;0m─╮\u001b[0m\n",
       "\u001b[38;2;255;0;0m│\u001b[0m in <module>:1                                                                                    \u001b[38;2;255;0;0m│\u001b[0m\n",
       "\u001b[38;2;255;0;0m│\u001b[0m                                                                                                  \u001b[38;2;255;0;0m│\u001b[0m\n",
       "\u001b[38;2;255;0;0m│\u001b[0m \u001b[31m❱ \u001b[0m1 response = predictor.predict_async(                                                          \u001b[38;2;255;0;0m│\u001b[0m\n",
       "\u001b[38;2;255;0;0m│\u001b[0m   \u001b[2m2 \u001b[0m\u001b[2m│   \u001b[0mdata=input_data,                                                                         \u001b[38;2;255;0;0m│\u001b[0m\n",
       "\u001b[38;2;255;0;0m│\u001b[0m   \u001b[2m3 \u001b[0m\u001b[2m│   \u001b[0minput_path=input_data                                                                    \u001b[38;2;255;0;0m│\u001b[0m\n",
       "\u001b[38;2;255;0;0m│\u001b[0m   \u001b[2m4 \u001b[0m)                                                                                            \u001b[38;2;255;0;0m│\u001b[0m\n",
       "\u001b[38;2;255;0;0m╰──────────────────────────────────────────────────────────────────────────────────────────────────╯\u001b[0m\n",
       "\u001b[1;91mAttributeError: \u001b[0m\u001b[38;2;0;135;0m'NoneType'\u001b[0m object has no attribute \u001b[38;2;0;135;0m'predict_async'\u001b[0m\n"
      ]
     },
     "metadata": {},
     "output_type": "display_data"
    }
   ],
   "source": [
    "### 에러남\n",
    "response = predictor.predict_async(\n",
    "    data=input_data,\n",
    "    input_path=input_data\n",
    ")\n",
    "\n",
    "print(f\"추론 작업 ID: {response.output_path}\")"
   ]
  },
  {
   "cell_type": "code",
   "execution_count": 56,
   "id": "912b40e2-c51c-4c01-a3fa-afadeb4b33d0",
   "metadata": {},
   "outputs": [
    {
     "name": "stdout",
     "output_type": "stream",
     "text": [
      "🚀 기존 데이터로 빠른 테스트 시작\n",
      "입력 데이터: s3://greenenergy-ai-app-d-an2-s3-gem/async-inference-input/test-20250729100023.json\n",
      "출력 위치: s3://greenenergy-ai-app-d-an2-s3-gem/async-inference/output/88c619d4-3f96-4aa8-883c-fe79e8e9ce42.out\n",
      "greenenergy-ai-app-d-an2-s3-gem\n",
      "async-inference/output/88c619d4-3f96-4aa8-883c-fe79e8e9ce42.out\n",
      "greenenergy-ai-app-d-an2-s3-gem\n",
      "async-inference/output/88c619d4-3f96-4aa8-883c-fe79e8e9ce42.out\n",
      "greenenergy-ai-app-d-an2-s3-gem\n",
      "async-inference/output/88c619d4-3f96-4aa8-883c-fe79e8e9ce42.out\n",
      "greenenergy-ai-app-d-an2-s3-gem\n",
      "async-inference/output/88c619d4-3f96-4aa8-883c-fe79e8e9ce42.out\n",
      "greenenergy-ai-app-d-an2-s3-gem\n",
      "async-inference/output/88c619d4-3f96-4aa8-883c-fe79e8e9ce42.out\n",
      "greenenergy-ai-app-d-an2-s3-gem\n",
      "async-inference/output/88c619d4-3f96-4aa8-883c-fe79e8e9ce42.out\n",
      "greenenergy-ai-app-d-an2-s3-gem\n",
      "async-inference/output/88c619d4-3f96-4aa8-883c-fe79e8e9ce42.out\n",
      "greenenergy-ai-app-d-an2-s3-gem\n",
      "async-inference/output/88c619d4-3f96-4aa8-883c-fe79e8e9ce42.out\n",
      "greenenergy-ai-app-d-an2-s3-gem\n",
      "async-inference/output/88c619d4-3f96-4aa8-883c-fe79e8e9ce42.out\n",
      "greenenergy-ai-app-d-an2-s3-gem\n",
      "async-inference/output/88c619d4-3f96-4aa8-883c-fe79e8e9ce42.out\n",
      "greenenergy-ai-app-d-an2-s3-gem\n",
      "async-inference/output/88c619d4-3f96-4aa8-883c-fe79e8e9ce42.out\n",
      "greenenergy-ai-app-d-an2-s3-gem\n",
      "async-inference/output/88c619d4-3f96-4aa8-883c-fe79e8e9ce42.out\n",
      "greenenergy-ai-app-d-an2-s3-gem\n",
      "async-inference/output/88c619d4-3f96-4aa8-883c-fe79e8e9ce42.out\n",
      "greenenergy-ai-app-d-an2-s3-gem\n",
      "async-inference/output/88c619d4-3f96-4aa8-883c-fe79e8e9ce42.out\n",
      "greenenergy-ai-app-d-an2-s3-gem\n",
      "async-inference/output/88c619d4-3f96-4aa8-883c-fe79e8e9ce42.out\n",
      "greenenergy-ai-app-d-an2-s3-gem\n",
      "async-inference/output/88c619d4-3f96-4aa8-883c-fe79e8e9ce42.out\n",
      "greenenergy-ai-app-d-an2-s3-gem\n",
      "async-inference/output/88c619d4-3f96-4aa8-883c-fe79e8e9ce42.out\n",
      "greenenergy-ai-app-d-an2-s3-gem\n",
      "async-inference/output/88c619d4-3f96-4aa8-883c-fe79e8e9ce42.out\n",
      "greenenergy-ai-app-d-an2-s3-gem\n",
      "async-inference/output/88c619d4-3f96-4aa8-883c-fe79e8e9ce42.out\n",
      "greenenergy-ai-app-d-an2-s3-gem\n",
      "async-inference/output/88c619d4-3f96-4aa8-883c-fe79e8e9ce42.out\n",
      "greenenergy-ai-app-d-an2-s3-gem\n",
      "async-inference/output/88c619d4-3f96-4aa8-883c-fe79e8e9ce42.out\n",
      "greenenergy-ai-app-d-an2-s3-gem\n",
      "async-inference/output/88c619d4-3f96-4aa8-883c-fe79e8e9ce42.out\n",
      "greenenergy-ai-app-d-an2-s3-gem\n",
      "async-inference/output/88c619d4-3f96-4aa8-883c-fe79e8e9ce42.out\n",
      "greenenergy-ai-app-d-an2-s3-gem\n",
      "async-inference/output/88c619d4-3f96-4aa8-883c-fe79e8e9ce42.out\n"
     ]
    },
    {
     "data": {
      "text/html": [
       "<pre style=\"white-space:pre;overflow-x:auto;line-height:normal;font-family:Menlo,'DejaVu Sans Mono',consolas,'Courier New',monospace\"><span style=\"color: #ff0000; text-decoration-color: #ff0000\">╭─────────────────────────────── </span><span style=\"color: #ff0000; text-decoration-color: #ff0000; font-weight: bold\">Traceback </span><span style=\"color: #ff7f7f; text-decoration-color: #ff7f7f; font-weight: bold\">(most recent call last)</span><span style=\"color: #ff0000; text-decoration-color: #ff0000\"> ────────────────────────────────╮</span>\n",
       "<span style=\"color: #ff0000; text-decoration-color: #ff0000\">│</span> in quick_test_existing_data:33                                                                   <span style=\"color: #ff0000; text-decoration-color: #ff0000\">│</span>\n",
       "<span style=\"color: #ff0000; text-decoration-color: #ff0000\">│</span>                                                                                                  <span style=\"color: #ff0000; text-decoration-color: #ff0000\">│</span>\n",
       "<span style=\"color: #ff0000; text-decoration-color: #ff0000\">│</span>   <span style=\"color: #7f7f7f; text-decoration-color: #7f7f7f\">30 </span><span style=\"color: #7f7f7f; text-decoration-color: #7f7f7f\">│   │   │   │   </span>key = <span style=\"color: #808000; text-decoration-color: #808000\">'/'</span>.join(output_location.split(<span style=\"color: #808000; text-decoration-color: #808000\">'/'</span>)[<span style=\"color: #0000ff; text-decoration-color: #0000ff\">3</span>:])                              <span style=\"color: #ff0000; text-decoration-color: #ff0000\">│</span>\n",
       "<span style=\"color: #ff0000; text-decoration-color: #ff0000\">│</span>   <span style=\"color: #7f7f7f; text-decoration-color: #7f7f7f\">31 </span><span style=\"color: #7f7f7f; text-decoration-color: #7f7f7f\">│   │   │   │   </span><span style=\"color: #00ffff; text-decoration-color: #00ffff\">print</span>(key)                                                                  <span style=\"color: #ff0000; text-decoration-color: #ff0000\">│</span>\n",
       "<span style=\"color: #ff0000; text-decoration-color: #ff0000\">│</span>   <span style=\"color: #7f7f7f; text-decoration-color: #7f7f7f\">32 </span><span style=\"color: #7f7f7f; text-decoration-color: #7f7f7f\">│   │   │   │   </span>                                                                            <span style=\"color: #ff0000; text-decoration-color: #ff0000\">│</span>\n",
       "<span style=\"color: #ff0000; text-decoration-color: #ff0000\">│</span> <span style=\"color: #800000; text-decoration-color: #800000\">❱ </span>33 <span style=\"color: #7f7f7f; text-decoration-color: #7f7f7f\">│   │   │   │   </span>result_obj = s3.get_object(Bucket=bucket, Key=key)                          <span style=\"color: #ff0000; text-decoration-color: #ff0000\">│</span>\n",
       "<span style=\"color: #ff0000; text-decoration-color: #ff0000\">│</span>   <span style=\"color: #7f7f7f; text-decoration-color: #7f7f7f\">34 </span><span style=\"color: #7f7f7f; text-decoration-color: #7f7f7f\">│   │   │   │   </span><span style=\"color: #00ffff; text-decoration-color: #00ffff\">print</span>(result_obj)                                                           <span style=\"color: #ff0000; text-decoration-color: #ff0000\">│</span>\n",
       "<span style=\"color: #ff0000; text-decoration-color: #ff0000\">│</span>   <span style=\"color: #7f7f7f; text-decoration-color: #7f7f7f\">35 </span><span style=\"color: #7f7f7f; text-decoration-color: #7f7f7f\">│   │   │   │   </span>result_data = json.loads(result_obj[<span style=\"color: #808000; text-decoration-color: #808000\">'Body'</span>].read())                         <span style=\"color: #ff0000; text-decoration-color: #ff0000\">│</span>\n",
       "<span style=\"color: #ff0000; text-decoration-color: #ff0000\">│</span>   <span style=\"color: #7f7f7f; text-decoration-color: #7f7f7f\">36 </span><span style=\"color: #7f7f7f; text-decoration-color: #7f7f7f\">│   │   │   │   </span><span style=\"color: #00ffff; text-decoration-color: #00ffff\">print</span>(result_data)                                                          <span style=\"color: #ff0000; text-decoration-color: #ff0000\">│</span>\n",
       "<span style=\"color: #ff0000; text-decoration-color: #ff0000\">│</span>                                                                                                  <span style=\"color: #ff0000; text-decoration-color: #ff0000\">│</span>\n",
       "<span style=\"color: #ff0000; text-decoration-color: #ff0000\">│</span> <span style=\"color: #7f7f7f; text-decoration-color: #7f7f7f\">/home/ec2-user/anaconda3/envs/python3/lib/python3.10/site-packages/botocore/</span><span style=\"font-weight: bold\">client.py</span>:602 in     <span style=\"color: #ff0000; text-decoration-color: #ff0000\">│</span>\n",
       "<span style=\"color: #ff0000; text-decoration-color: #ff0000\">│</span> _api_call                                                                                        <span style=\"color: #ff0000; text-decoration-color: #ff0000\">│</span>\n",
       "<span style=\"color: #ff0000; text-decoration-color: #ff0000\">│</span>                                                                                                  <span style=\"color: #ff0000; text-decoration-color: #ff0000\">│</span>\n",
       "<span style=\"color: #ff0000; text-decoration-color: #ff0000\">│</span>   <span style=\"color: #7f7f7f; text-decoration-color: #7f7f7f\"> 599 </span><span style=\"color: #7f7f7f; text-decoration-color: #7f7f7f\">│   │   │   │   │   </span><span style=\"color: #808000; text-decoration-color: #808000\">f\"{</span>py_operation_name<span style=\"color: #808000; text-decoration-color: #808000\">}() only accepts keyword arguments.\"</span>              <span style=\"color: #ff0000; text-decoration-color: #ff0000\">│</span>\n",
       "<span style=\"color: #ff0000; text-decoration-color: #ff0000\">│</span>   <span style=\"color: #7f7f7f; text-decoration-color: #7f7f7f\"> 600 </span><span style=\"color: #7f7f7f; text-decoration-color: #7f7f7f\">│   │   │   │   </span>)                                                                         <span style=\"color: #ff0000; text-decoration-color: #ff0000\">│</span>\n",
       "<span style=\"color: #ff0000; text-decoration-color: #ff0000\">│</span>   <span style=\"color: #7f7f7f; text-decoration-color: #7f7f7f\"> 601 </span><span style=\"color: #7f7f7f; text-decoration-color: #7f7f7f\">│   │   │   </span><span style=\"color: #7f7f7f; text-decoration-color: #7f7f7f\"># The \"self\" in this scope is referring to the BaseClient.</span>                    <span style=\"color: #ff0000; text-decoration-color: #ff0000\">│</span>\n",
       "<span style=\"color: #ff0000; text-decoration-color: #ff0000\">│</span> <span style=\"color: #800000; text-decoration-color: #800000\">❱ </span> 602 <span style=\"color: #7f7f7f; text-decoration-color: #7f7f7f\">│   │   │   </span><span style=\"color: #0000ff; text-decoration-color: #0000ff\">return</span> <span style=\"color: #00ffff; text-decoration-color: #00ffff\">self</span>._make_api_call(operation_name, kwargs)                            <span style=\"color: #ff0000; text-decoration-color: #ff0000\">│</span>\n",
       "<span style=\"color: #ff0000; text-decoration-color: #ff0000\">│</span>   <span style=\"color: #7f7f7f; text-decoration-color: #7f7f7f\"> 603 </span><span style=\"color: #7f7f7f; text-decoration-color: #7f7f7f\">│   │   </span>                                                                                  <span style=\"color: #ff0000; text-decoration-color: #ff0000\">│</span>\n",
       "<span style=\"color: #ff0000; text-decoration-color: #ff0000\">│</span>   <span style=\"color: #7f7f7f; text-decoration-color: #7f7f7f\"> 604 </span><span style=\"color: #7f7f7f; text-decoration-color: #7f7f7f\">│   │   </span>_api_call.<span style=\"color: #ff0000; text-decoration-color: #ff0000\">__name__</span> = <span style=\"color: #00ffff; text-decoration-color: #00ffff\">str</span>(py_operation_name)                                       <span style=\"color: #ff0000; text-decoration-color: #ff0000\">│</span>\n",
       "<span style=\"color: #ff0000; text-decoration-color: #ff0000\">│</span>   <span style=\"color: #7f7f7f; text-decoration-color: #7f7f7f\"> 605 </span>                                                                                          <span style=\"color: #ff0000; text-decoration-color: #ff0000\">│</span>\n",
       "<span style=\"color: #ff0000; text-decoration-color: #ff0000\">│</span>                                                                                                  <span style=\"color: #ff0000; text-decoration-color: #ff0000\">│</span>\n",
       "<span style=\"color: #ff0000; text-decoration-color: #ff0000\">│</span> <span style=\"color: #7f7f7f; text-decoration-color: #7f7f7f\">/home/ec2-user/anaconda3/envs/python3/lib/python3.10/site-packages/botocore/</span><span style=\"font-weight: bold\">context.py</span>:123 in    <span style=\"color: #ff0000; text-decoration-color: #ff0000\">│</span>\n",
       "<span style=\"color: #ff0000; text-decoration-color: #ff0000\">│</span> wrapper                                                                                          <span style=\"color: #ff0000; text-decoration-color: #ff0000\">│</span>\n",
       "<span style=\"color: #ff0000; text-decoration-color: #ff0000\">│</span>                                                                                                  <span style=\"color: #ff0000; text-decoration-color: #ff0000\">│</span>\n",
       "<span style=\"color: #ff0000; text-decoration-color: #ff0000\">│</span>   <span style=\"color: #7f7f7f; text-decoration-color: #7f7f7f\">120 </span><span style=\"color: #7f7f7f; text-decoration-color: #7f7f7f\">│   │   │   </span><span style=\"color: #0000ff; text-decoration-color: #0000ff\">with</span> start_as_current_context():                                               <span style=\"color: #ff0000; text-decoration-color: #ff0000\">│</span>\n",
       "<span style=\"color: #ff0000; text-decoration-color: #ff0000\">│</span>   <span style=\"color: #7f7f7f; text-decoration-color: #7f7f7f\">121 </span><span style=\"color: #7f7f7f; text-decoration-color: #7f7f7f\">│   │   │   │   </span><span style=\"color: #0000ff; text-decoration-color: #0000ff\">if</span> hook:                                                                   <span style=\"color: #ff0000; text-decoration-color: #ff0000\">│</span>\n",
       "<span style=\"color: #ff0000; text-decoration-color: #ff0000\">│</span>   <span style=\"color: #7f7f7f; text-decoration-color: #7f7f7f\">122 </span><span style=\"color: #7f7f7f; text-decoration-color: #7f7f7f\">│   │   │   │   │   </span>hook()                                                                 <span style=\"color: #ff0000; text-decoration-color: #ff0000\">│</span>\n",
       "<span style=\"color: #ff0000; text-decoration-color: #ff0000\">│</span> <span style=\"color: #800000; text-decoration-color: #800000\">❱ </span>123 <span style=\"color: #7f7f7f; text-decoration-color: #7f7f7f\">│   │   │   │   </span><span style=\"color: #0000ff; text-decoration-color: #0000ff\">return</span> func(*args, **kwargs)                                               <span style=\"color: #ff0000; text-decoration-color: #ff0000\">│</span>\n",
       "<span style=\"color: #ff0000; text-decoration-color: #ff0000\">│</span>   <span style=\"color: #7f7f7f; text-decoration-color: #7f7f7f\">124 </span><span style=\"color: #7f7f7f; text-decoration-color: #7f7f7f\">│   │   </span>                                                                                   <span style=\"color: #ff0000; text-decoration-color: #ff0000\">│</span>\n",
       "<span style=\"color: #ff0000; text-decoration-color: #ff0000\">│</span>   <span style=\"color: #7f7f7f; text-decoration-color: #7f7f7f\">125 </span><span style=\"color: #7f7f7f; text-decoration-color: #7f7f7f\">│   │   </span><span style=\"color: #0000ff; text-decoration-color: #0000ff\">return</span> wrapper                                                                     <span style=\"color: #ff0000; text-decoration-color: #ff0000\">│</span>\n",
       "<span style=\"color: #ff0000; text-decoration-color: #ff0000\">│</span>   <span style=\"color: #7f7f7f; text-decoration-color: #7f7f7f\">126 </span>                                                                                           <span style=\"color: #ff0000; text-decoration-color: #ff0000\">│</span>\n",
       "<span style=\"color: #ff0000; text-decoration-color: #ff0000\">│</span>                                                                                                  <span style=\"color: #ff0000; text-decoration-color: #ff0000\">│</span>\n",
       "<span style=\"color: #ff0000; text-decoration-color: #ff0000\">│</span> <span style=\"color: #7f7f7f; text-decoration-color: #7f7f7f\">/home/ec2-user/anaconda3/envs/python3/lib/python3.10/site-packages/botocore/</span><span style=\"font-weight: bold\">client.py</span>:1078 in    <span style=\"color: #ff0000; text-decoration-color: #ff0000\">│</span>\n",
       "<span style=\"color: #ff0000; text-decoration-color: #ff0000\">│</span> _make_api_call                                                                                   <span style=\"color: #ff0000; text-decoration-color: #ff0000\">│</span>\n",
       "<span style=\"color: #ff0000; text-decoration-color: #ff0000\">│</span>                                                                                                  <span style=\"color: #ff0000; text-decoration-color: #ff0000\">│</span>\n",
       "<span style=\"color: #ff0000; text-decoration-color: #ff0000\">│</span>   <span style=\"color: #7f7f7f; text-decoration-color: #7f7f7f\">1075 </span><span style=\"color: #7f7f7f; text-decoration-color: #7f7f7f\">│   │   │   │   </span><span style=\"color: #808000; text-decoration-color: #808000\">'error_code_override'</span>                                                     <span style=\"color: #ff0000; text-decoration-color: #ff0000\">│</span>\n",
       "<span style=\"color: #ff0000; text-decoration-color: #ff0000\">│</span>   <span style=\"color: #7f7f7f; text-decoration-color: #7f7f7f\">1076 </span><span style=\"color: #7f7f7f; text-decoration-color: #7f7f7f\">│   │   │   </span>) <span style=\"color: #ff00ff; text-decoration-color: #ff00ff\">or</span> error_info.get(<span style=\"color: #808000; text-decoration-color: #808000\">\"Code\"</span>)                                                   <span style=\"color: #ff0000; text-decoration-color: #ff0000\">│</span>\n",
       "<span style=\"color: #ff0000; text-decoration-color: #ff0000\">│</span>   <span style=\"color: #7f7f7f; text-decoration-color: #7f7f7f\">1077 </span><span style=\"color: #7f7f7f; text-decoration-color: #7f7f7f\">│   │   │   </span>error_class = <span style=\"color: #00ffff; text-decoration-color: #00ffff\">self</span>.exceptions.from_code(error_code)                           <span style=\"color: #ff0000; text-decoration-color: #ff0000\">│</span>\n",
       "<span style=\"color: #ff0000; text-decoration-color: #ff0000\">│</span> <span style=\"color: #800000; text-decoration-color: #800000\">❱ </span>1078 <span style=\"color: #7f7f7f; text-decoration-color: #7f7f7f\">│   │   │   </span><span style=\"color: #0000ff; text-decoration-color: #0000ff\">raise</span> error_class(parsed_response, operation_name)                            <span style=\"color: #ff0000; text-decoration-color: #ff0000\">│</span>\n",
       "<span style=\"color: #ff0000; text-decoration-color: #ff0000\">│</span>   <span style=\"color: #7f7f7f; text-decoration-color: #7f7f7f\">1079 </span><span style=\"color: #7f7f7f; text-decoration-color: #7f7f7f\">│   │   </span><span style=\"color: #0000ff; text-decoration-color: #0000ff\">else</span>:                                                                             <span style=\"color: #ff0000; text-decoration-color: #ff0000\">│</span>\n",
       "<span style=\"color: #ff0000; text-decoration-color: #ff0000\">│</span>   <span style=\"color: #7f7f7f; text-decoration-color: #7f7f7f\">1080 </span><span style=\"color: #7f7f7f; text-decoration-color: #7f7f7f\">│   │   │   </span><span style=\"color: #0000ff; text-decoration-color: #0000ff\">return</span> parsed_response                                                        <span style=\"color: #ff0000; text-decoration-color: #ff0000\">│</span>\n",
       "<span style=\"color: #ff0000; text-decoration-color: #ff0000\">│</span>   <span style=\"color: #7f7f7f; text-decoration-color: #7f7f7f\">1081 </span>                                                                                          <span style=\"color: #ff0000; text-decoration-color: #ff0000\">│</span>\n",
       "<span style=\"color: #ff0000; text-decoration-color: #ff0000\">╰──────────────────────────────────────────────────────────────────────────────────────────────────╯</span>\n",
       "<span style=\"color: #ff0000; text-decoration-color: #ff0000; font-weight: bold\">NoSuchKey: </span>An error occurred <span style=\"font-weight: bold\">(</span>NoSuchKey<span style=\"font-weight: bold\">)</span> when calling the GetObject operation: The specified key does not exist.\n",
       "\n",
       "<span style=\"font-style: italic\">During handling of the above exception, another exception occurred:</span>\n",
       "\n",
       "<span style=\"color: #ff0000; text-decoration-color: #ff0000\">╭─────────────────────────────── </span><span style=\"color: #ff0000; text-decoration-color: #ff0000; font-weight: bold\">Traceback </span><span style=\"color: #ff7f7f; text-decoration-color: #ff7f7f; font-weight: bold\">(most recent call last)</span><span style=\"color: #ff0000; text-decoration-color: #ff0000\"> ────────────────────────────────╮</span>\n",
       "<span style=\"color: #ff0000; text-decoration-color: #ff0000\">│</span> in &lt;module&gt;:57                                                                                   <span style=\"color: #ff0000; text-decoration-color: #ff0000\">│</span>\n",
       "<span style=\"color: #ff0000; text-decoration-color: #ff0000\">│</span>                                                                                                  <span style=\"color: #ff0000; text-decoration-color: #ff0000\">│</span>\n",
       "<span style=\"color: #ff0000; text-decoration-color: #ff0000\">│</span>   <span style=\"color: #7f7f7f; text-decoration-color: #7f7f7f\">54 </span><span style=\"color: #7f7f7f; text-decoration-color: #7f7f7f\">│   │   </span><span style=\"color: #0000ff; text-decoration-color: #0000ff\">return</span> <span style=\"color: #0000ff; text-decoration-color: #0000ff\">None</span>                                                                         <span style=\"color: #ff0000; text-decoration-color: #ff0000\">│</span>\n",
       "<span style=\"color: #ff0000; text-decoration-color: #ff0000\">│</span>   <span style=\"color: #7f7f7f; text-decoration-color: #7f7f7f\">55 </span>                                                                                            <span style=\"color: #ff0000; text-decoration-color: #ff0000\">│</span>\n",
       "<span style=\"color: #ff0000; text-decoration-color: #ff0000\">│</span>   <span style=\"color: #7f7f7f; text-decoration-color: #7f7f7f\">56 # 기존 데이터로 빠른 테스트 실행</span>                                                            <span style=\"color: #ff0000; text-decoration-color: #ff0000\">│</span>\n",
       "<span style=\"color: #ff0000; text-decoration-color: #ff0000\">│</span> <span style=\"color: #800000; text-decoration-color: #800000\">❱ </span>57 result = quick_test_existing_data()                                                         <span style=\"color: #ff0000; text-decoration-color: #ff0000\">│</span>\n",
       "<span style=\"color: #ff0000; text-decoration-color: #ff0000\">│</span>   <span style=\"color: #7f7f7f; text-decoration-color: #7f7f7f\">58 </span>                                                                                            <span style=\"color: #ff0000; text-decoration-color: #ff0000\">│</span>\n",
       "<span style=\"color: #ff0000; text-decoration-color: #ff0000\">│</span>                                                                                                  <span style=\"color: #ff0000; text-decoration-color: #ff0000\">│</span>\n",
       "<span style=\"color: #ff0000; text-decoration-color: #ff0000\">│</span> in quick_test_existing_data:50                                                                   <span style=\"color: #ff0000; text-decoration-color: #ff0000\">│</span>\n",
       "<span style=\"color: #ff0000; text-decoration-color: #ff0000\">│</span>                                                                                                  <span style=\"color: #ff0000; text-decoration-color: #ff0000\">│</span>\n",
       "<span style=\"color: #ff0000; text-decoration-color: #ff0000\">│</span>   <span style=\"color: #7f7f7f; text-decoration-color: #7f7f7f\">47 </span><span style=\"color: #7f7f7f; text-decoration-color: #7f7f7f\">│   │   │   │   </span><span style=\"color: #0000ff; text-decoration-color: #0000ff\">if</span> i == <span style=\"color: #0000ff; text-decoration-color: #0000ff\">299</span>:                                                                <span style=\"color: #ff0000; text-decoration-color: #ff0000\">│</span>\n",
       "<span style=\"color: #ff0000; text-decoration-color: #ff0000\">│</span>   <span style=\"color: #7f7f7f; text-decoration-color: #7f7f7f\">48 </span><span style=\"color: #7f7f7f; text-decoration-color: #7f7f7f\">│   │   │   │   │   </span><span style=\"color: #00ffff; text-decoration-color: #00ffff\">print</span>(<span style=\"color: #808000; text-decoration-color: #808000\">f\"❌ 시간 초과: {</span>e<span style=\"color: #808000; text-decoration-color: #808000\">}\"</span>)                                             <span style=\"color: #ff0000; text-decoration-color: #ff0000\">│</span>\n",
       "<span style=\"color: #ff0000; text-decoration-color: #ff0000\">│</span>   <span style=\"color: #7f7f7f; text-decoration-color: #7f7f7f\">49 </span><span style=\"color: #7f7f7f; text-decoration-color: #7f7f7f\">│   │   │   │   │   </span><span style=\"color: #0000ff; text-decoration-color: #0000ff\">return</span> <span style=\"color: #0000ff; text-decoration-color: #0000ff\">None</span>                                                             <span style=\"color: #ff0000; text-decoration-color: #ff0000\">│</span>\n",
       "<span style=\"color: #ff0000; text-decoration-color: #ff0000\">│</span> <span style=\"color: #800000; text-decoration-color: #800000\">❱ </span>50 <span style=\"color: #7f7f7f; text-decoration-color: #7f7f7f\">│   │   │   │   </span>time.sleep(<span style=\"color: #0000ff; text-decoration-color: #0000ff\">1</span>)                                                               <span style=\"color: #ff0000; text-decoration-color: #ff0000\">│</span>\n",
       "<span style=\"color: #ff0000; text-decoration-color: #ff0000\">│</span>   <span style=\"color: #7f7f7f; text-decoration-color: #7f7f7f\">51 </span><span style=\"color: #7f7f7f; text-decoration-color: #7f7f7f\">│   </span>                                                                                        <span style=\"color: #ff0000; text-decoration-color: #ff0000\">│</span>\n",
       "<span style=\"color: #ff0000; text-decoration-color: #ff0000\">│</span>   <span style=\"color: #7f7f7f; text-decoration-color: #7f7f7f\">52 </span><span style=\"color: #7f7f7f; text-decoration-color: #7f7f7f\">│   </span><span style=\"color: #0000ff; text-decoration-color: #0000ff\">except</span> <span style=\"color: #00ffff; text-decoration-color: #00ffff\">Exception</span> <span style=\"color: #0000ff; text-decoration-color: #0000ff\">as</span> e:                                                                  <span style=\"color: #ff0000; text-decoration-color: #ff0000\">│</span>\n",
       "<span style=\"color: #ff0000; text-decoration-color: #ff0000\">│</span>   <span style=\"color: #7f7f7f; text-decoration-color: #7f7f7f\">53 </span><span style=\"color: #7f7f7f; text-decoration-color: #7f7f7f\">│   │   </span><span style=\"color: #00ffff; text-decoration-color: #00ffff\">print</span>(<span style=\"color: #808000; text-decoration-color: #808000\">f\"❌ 테스트 실패: {</span>e<span style=\"color: #808000; text-decoration-color: #808000\">}\"</span>)                                                       <span style=\"color: #ff0000; text-decoration-color: #ff0000\">│</span>\n",
       "<span style=\"color: #ff0000; text-decoration-color: #ff0000\">╰──────────────────────────────────────────────────────────────────────────────────────────────────╯</span>\n",
       "<span style=\"color: #ff0000; text-decoration-color: #ff0000; font-weight: bold\">KeyboardInterrupt</span>\n",
       "</pre>\n"
      ],
      "text/plain": [
       "\u001b[38;2;255;0;0m╭─\u001b[0m\u001b[38;2;255;0;0m──────────────────────────────\u001b[0m\u001b[38;2;255;0;0m \u001b[0m\u001b[1;38;2;255;0;0mTraceback \u001b[0m\u001b[1;2;38;2;255;0;0m(most recent call last)\u001b[0m\u001b[38;2;255;0;0m \u001b[0m\u001b[38;2;255;0;0m───────────────────────────────\u001b[0m\u001b[38;2;255;0;0m─╮\u001b[0m\n",
       "\u001b[38;2;255;0;0m│\u001b[0m in quick_test_existing_data:33                                                                   \u001b[38;2;255;0;0m│\u001b[0m\n",
       "\u001b[38;2;255;0;0m│\u001b[0m                                                                                                  \u001b[38;2;255;0;0m│\u001b[0m\n",
       "\u001b[38;2;255;0;0m│\u001b[0m   \u001b[2m30 \u001b[0m\u001b[2m│   │   │   │   \u001b[0mkey = \u001b[33m'\u001b[0m\u001b[33m/\u001b[0m\u001b[33m'\u001b[0m.join(output_location.split(\u001b[33m'\u001b[0m\u001b[33m/\u001b[0m\u001b[33m'\u001b[0m)[\u001b[94m3\u001b[0m:])                              \u001b[38;2;255;0;0m│\u001b[0m\n",
       "\u001b[38;2;255;0;0m│\u001b[0m   \u001b[2m31 \u001b[0m\u001b[2m│   │   │   │   \u001b[0m\u001b[96mprint\u001b[0m(key)                                                                  \u001b[38;2;255;0;0m│\u001b[0m\n",
       "\u001b[38;2;255;0;0m│\u001b[0m   \u001b[2m32 \u001b[0m\u001b[2m│   │   │   │   \u001b[0m                                                                            \u001b[38;2;255;0;0m│\u001b[0m\n",
       "\u001b[38;2;255;0;0m│\u001b[0m \u001b[31m❱ \u001b[0m33 \u001b[2m│   │   │   │   \u001b[0mresult_obj = s3.get_object(Bucket=bucket, Key=key)                          \u001b[38;2;255;0;0m│\u001b[0m\n",
       "\u001b[38;2;255;0;0m│\u001b[0m   \u001b[2m34 \u001b[0m\u001b[2m│   │   │   │   \u001b[0m\u001b[96mprint\u001b[0m(result_obj)                                                           \u001b[38;2;255;0;0m│\u001b[0m\n",
       "\u001b[38;2;255;0;0m│\u001b[0m   \u001b[2m35 \u001b[0m\u001b[2m│   │   │   │   \u001b[0mresult_data = json.loads(result_obj[\u001b[33m'\u001b[0m\u001b[33mBody\u001b[0m\u001b[33m'\u001b[0m].read())                         \u001b[38;2;255;0;0m│\u001b[0m\n",
       "\u001b[38;2;255;0;0m│\u001b[0m   \u001b[2m36 \u001b[0m\u001b[2m│   │   │   │   \u001b[0m\u001b[96mprint\u001b[0m(result_data)                                                          \u001b[38;2;255;0;0m│\u001b[0m\n",
       "\u001b[38;2;255;0;0m│\u001b[0m                                                                                                  \u001b[38;2;255;0;0m│\u001b[0m\n",
       "\u001b[38;2;255;0;0m│\u001b[0m \u001b[2m/home/ec2-user/anaconda3/envs/python3/lib/python3.10/site-packages/botocore/\u001b[0m\u001b[1mclient.py\u001b[0m:602 in     \u001b[38;2;255;0;0m│\u001b[0m\n",
       "\u001b[38;2;255;0;0m│\u001b[0m _api_call                                                                                        \u001b[38;2;255;0;0m│\u001b[0m\n",
       "\u001b[38;2;255;0;0m│\u001b[0m                                                                                                  \u001b[38;2;255;0;0m│\u001b[0m\n",
       "\u001b[38;2;255;0;0m│\u001b[0m   \u001b[2m 599 \u001b[0m\u001b[2m│   │   │   │   │   \u001b[0m\u001b[33mf\u001b[0m\u001b[33m\"\u001b[0m\u001b[33m{\u001b[0mpy_operation_name\u001b[33m}\u001b[0m\u001b[33m() only accepts keyword arguments.\u001b[0m\u001b[33m\"\u001b[0m              \u001b[38;2;255;0;0m│\u001b[0m\n",
       "\u001b[38;2;255;0;0m│\u001b[0m   \u001b[2m 600 \u001b[0m\u001b[2m│   │   │   │   \u001b[0m)                                                                         \u001b[38;2;255;0;0m│\u001b[0m\n",
       "\u001b[38;2;255;0;0m│\u001b[0m   \u001b[2m 601 \u001b[0m\u001b[2m│   │   │   \u001b[0m\u001b[2m# The \"self\" in this scope is referring to the BaseClient.\u001b[0m                    \u001b[38;2;255;0;0m│\u001b[0m\n",
       "\u001b[38;2;255;0;0m│\u001b[0m \u001b[31m❱ \u001b[0m 602 \u001b[2m│   │   │   \u001b[0m\u001b[94mreturn\u001b[0m \u001b[96mself\u001b[0m._make_api_call(operation_name, kwargs)                            \u001b[38;2;255;0;0m│\u001b[0m\n",
       "\u001b[38;2;255;0;0m│\u001b[0m   \u001b[2m 603 \u001b[0m\u001b[2m│   │   \u001b[0m                                                                                  \u001b[38;2;255;0;0m│\u001b[0m\n",
       "\u001b[38;2;255;0;0m│\u001b[0m   \u001b[2m 604 \u001b[0m\u001b[2m│   │   \u001b[0m_api_call.\u001b[91m__name__\u001b[0m = \u001b[96mstr\u001b[0m(py_operation_name)                                       \u001b[38;2;255;0;0m│\u001b[0m\n",
       "\u001b[38;2;255;0;0m│\u001b[0m   \u001b[2m 605 \u001b[0m                                                                                          \u001b[38;2;255;0;0m│\u001b[0m\n",
       "\u001b[38;2;255;0;0m│\u001b[0m                                                                                                  \u001b[38;2;255;0;0m│\u001b[0m\n",
       "\u001b[38;2;255;0;0m│\u001b[0m \u001b[2m/home/ec2-user/anaconda3/envs/python3/lib/python3.10/site-packages/botocore/\u001b[0m\u001b[1mcontext.py\u001b[0m:123 in    \u001b[38;2;255;0;0m│\u001b[0m\n",
       "\u001b[38;2;255;0;0m│\u001b[0m wrapper                                                                                          \u001b[38;2;255;0;0m│\u001b[0m\n",
       "\u001b[38;2;255;0;0m│\u001b[0m                                                                                                  \u001b[38;2;255;0;0m│\u001b[0m\n",
       "\u001b[38;2;255;0;0m│\u001b[0m   \u001b[2m120 \u001b[0m\u001b[2m│   │   │   \u001b[0m\u001b[94mwith\u001b[0m start_as_current_context():                                               \u001b[38;2;255;0;0m│\u001b[0m\n",
       "\u001b[38;2;255;0;0m│\u001b[0m   \u001b[2m121 \u001b[0m\u001b[2m│   │   │   │   \u001b[0m\u001b[94mif\u001b[0m hook:                                                                   \u001b[38;2;255;0;0m│\u001b[0m\n",
       "\u001b[38;2;255;0;0m│\u001b[0m   \u001b[2m122 \u001b[0m\u001b[2m│   │   │   │   │   \u001b[0mhook()                                                                 \u001b[38;2;255;0;0m│\u001b[0m\n",
       "\u001b[38;2;255;0;0m│\u001b[0m \u001b[31m❱ \u001b[0m123 \u001b[2m│   │   │   │   \u001b[0m\u001b[94mreturn\u001b[0m func(*args, **kwargs)                                               \u001b[38;2;255;0;0m│\u001b[0m\n",
       "\u001b[38;2;255;0;0m│\u001b[0m   \u001b[2m124 \u001b[0m\u001b[2m│   │   \u001b[0m                                                                                   \u001b[38;2;255;0;0m│\u001b[0m\n",
       "\u001b[38;2;255;0;0m│\u001b[0m   \u001b[2m125 \u001b[0m\u001b[2m│   │   \u001b[0m\u001b[94mreturn\u001b[0m wrapper                                                                     \u001b[38;2;255;0;0m│\u001b[0m\n",
       "\u001b[38;2;255;0;0m│\u001b[0m   \u001b[2m126 \u001b[0m                                                                                           \u001b[38;2;255;0;0m│\u001b[0m\n",
       "\u001b[38;2;255;0;0m│\u001b[0m                                                                                                  \u001b[38;2;255;0;0m│\u001b[0m\n",
       "\u001b[38;2;255;0;0m│\u001b[0m \u001b[2m/home/ec2-user/anaconda3/envs/python3/lib/python3.10/site-packages/botocore/\u001b[0m\u001b[1mclient.py\u001b[0m:1078 in    \u001b[38;2;255;0;0m│\u001b[0m\n",
       "\u001b[38;2;255;0;0m│\u001b[0m _make_api_call                                                                                   \u001b[38;2;255;0;0m│\u001b[0m\n",
       "\u001b[38;2;255;0;0m│\u001b[0m                                                                                                  \u001b[38;2;255;0;0m│\u001b[0m\n",
       "\u001b[38;2;255;0;0m│\u001b[0m   \u001b[2m1075 \u001b[0m\u001b[2m│   │   │   │   \u001b[0m\u001b[33m'\u001b[0m\u001b[33merror_code_override\u001b[0m\u001b[33m'\u001b[0m                                                     \u001b[38;2;255;0;0m│\u001b[0m\n",
       "\u001b[38;2;255;0;0m│\u001b[0m   \u001b[2m1076 \u001b[0m\u001b[2m│   │   │   \u001b[0m) \u001b[95mor\u001b[0m error_info.get(\u001b[33m\"\u001b[0m\u001b[33mCode\u001b[0m\u001b[33m\"\u001b[0m)                                                   \u001b[38;2;255;0;0m│\u001b[0m\n",
       "\u001b[38;2;255;0;0m│\u001b[0m   \u001b[2m1077 \u001b[0m\u001b[2m│   │   │   \u001b[0merror_class = \u001b[96mself\u001b[0m.exceptions.from_code(error_code)                           \u001b[38;2;255;0;0m│\u001b[0m\n",
       "\u001b[38;2;255;0;0m│\u001b[0m \u001b[31m❱ \u001b[0m1078 \u001b[2m│   │   │   \u001b[0m\u001b[94mraise\u001b[0m error_class(parsed_response, operation_name)                            \u001b[38;2;255;0;0m│\u001b[0m\n",
       "\u001b[38;2;255;0;0m│\u001b[0m   \u001b[2m1079 \u001b[0m\u001b[2m│   │   \u001b[0m\u001b[94melse\u001b[0m:                                                                             \u001b[38;2;255;0;0m│\u001b[0m\n",
       "\u001b[38;2;255;0;0m│\u001b[0m   \u001b[2m1080 \u001b[0m\u001b[2m│   │   │   \u001b[0m\u001b[94mreturn\u001b[0m parsed_response                                                        \u001b[38;2;255;0;0m│\u001b[0m\n",
       "\u001b[38;2;255;0;0m│\u001b[0m   \u001b[2m1081 \u001b[0m                                                                                          \u001b[38;2;255;0;0m│\u001b[0m\n",
       "\u001b[38;2;255;0;0m╰──────────────────────────────────────────────────────────────────────────────────────────────────╯\u001b[0m\n",
       "\u001b[1;91mNoSuchKey: \u001b[0mAn error occurred \u001b[1m(\u001b[0mNoSuchKey\u001b[1m)\u001b[0m when calling the GetObject operation: The specified key does not exist.\n",
       "\n",
       "\u001b[3mDuring handling of the above exception, another exception occurred:\u001b[0m\n",
       "\n",
       "\u001b[38;2;255;0;0m╭─\u001b[0m\u001b[38;2;255;0;0m──────────────────────────────\u001b[0m\u001b[38;2;255;0;0m \u001b[0m\u001b[1;38;2;255;0;0mTraceback \u001b[0m\u001b[1;2;38;2;255;0;0m(most recent call last)\u001b[0m\u001b[38;2;255;0;0m \u001b[0m\u001b[38;2;255;0;0m───────────────────────────────\u001b[0m\u001b[38;2;255;0;0m─╮\u001b[0m\n",
       "\u001b[38;2;255;0;0m│\u001b[0m in <module>:57                                                                                   \u001b[38;2;255;0;0m│\u001b[0m\n",
       "\u001b[38;2;255;0;0m│\u001b[0m                                                                                                  \u001b[38;2;255;0;0m│\u001b[0m\n",
       "\u001b[38;2;255;0;0m│\u001b[0m   \u001b[2m54 \u001b[0m\u001b[2m│   │   \u001b[0m\u001b[94mreturn\u001b[0m \u001b[94mNone\u001b[0m                                                                         \u001b[38;2;255;0;0m│\u001b[0m\n",
       "\u001b[38;2;255;0;0m│\u001b[0m   \u001b[2m55 \u001b[0m                                                                                            \u001b[38;2;255;0;0m│\u001b[0m\n",
       "\u001b[38;2;255;0;0m│\u001b[0m   \u001b[2m56 \u001b[0m\u001b[2m# 기존 데이터로 빠른 테스트 실행\u001b[0m                                                            \u001b[38;2;255;0;0m│\u001b[0m\n",
       "\u001b[38;2;255;0;0m│\u001b[0m \u001b[31m❱ \u001b[0m57 result = quick_test_existing_data()                                                         \u001b[38;2;255;0;0m│\u001b[0m\n",
       "\u001b[38;2;255;0;0m│\u001b[0m   \u001b[2m58 \u001b[0m                                                                                            \u001b[38;2;255;0;0m│\u001b[0m\n",
       "\u001b[38;2;255;0;0m│\u001b[0m                                                                                                  \u001b[38;2;255;0;0m│\u001b[0m\n",
       "\u001b[38;2;255;0;0m│\u001b[0m in quick_test_existing_data:50                                                                   \u001b[38;2;255;0;0m│\u001b[0m\n",
       "\u001b[38;2;255;0;0m│\u001b[0m                                                                                                  \u001b[38;2;255;0;0m│\u001b[0m\n",
       "\u001b[38;2;255;0;0m│\u001b[0m   \u001b[2m47 \u001b[0m\u001b[2m│   │   │   │   \u001b[0m\u001b[94mif\u001b[0m i == \u001b[94m299\u001b[0m:                                                                \u001b[38;2;255;0;0m│\u001b[0m\n",
       "\u001b[38;2;255;0;0m│\u001b[0m   \u001b[2m48 \u001b[0m\u001b[2m│   │   │   │   │   \u001b[0m\u001b[96mprint\u001b[0m(\u001b[33mf\u001b[0m\u001b[33m\"\u001b[0m\u001b[33m❌ 시간 초과: \u001b[0m\u001b[33m{\u001b[0me\u001b[33m}\u001b[0m\u001b[33m\"\u001b[0m)                                             \u001b[38;2;255;0;0m│\u001b[0m\n",
       "\u001b[38;2;255;0;0m│\u001b[0m   \u001b[2m49 \u001b[0m\u001b[2m│   │   │   │   │   \u001b[0m\u001b[94mreturn\u001b[0m \u001b[94mNone\u001b[0m                                                             \u001b[38;2;255;0;0m│\u001b[0m\n",
       "\u001b[38;2;255;0;0m│\u001b[0m \u001b[31m❱ \u001b[0m50 \u001b[2m│   │   │   │   \u001b[0mtime.sleep(\u001b[94m1\u001b[0m)                                                               \u001b[38;2;255;0;0m│\u001b[0m\n",
       "\u001b[38;2;255;0;0m│\u001b[0m   \u001b[2m51 \u001b[0m\u001b[2m│   \u001b[0m                                                                                        \u001b[38;2;255;0;0m│\u001b[0m\n",
       "\u001b[38;2;255;0;0m│\u001b[0m   \u001b[2m52 \u001b[0m\u001b[2m│   \u001b[0m\u001b[94mexcept\u001b[0m \u001b[96mException\u001b[0m \u001b[94mas\u001b[0m e:                                                                  \u001b[38;2;255;0;0m│\u001b[0m\n",
       "\u001b[38;2;255;0;0m│\u001b[0m   \u001b[2m53 \u001b[0m\u001b[2m│   │   \u001b[0m\u001b[96mprint\u001b[0m(\u001b[33mf\u001b[0m\u001b[33m\"\u001b[0m\u001b[33m❌ 테스트 실패: \u001b[0m\u001b[33m{\u001b[0me\u001b[33m}\u001b[0m\u001b[33m\"\u001b[0m)                                                       \u001b[38;2;255;0;0m│\u001b[0m\n",
       "\u001b[38;2;255;0;0m╰──────────────────────────────────────────────────────────────────────────────────────────────────╯\u001b[0m\n",
       "\u001b[1;91mKeyboardInterrupt\u001b[0m\n"
      ]
     },
     "metadata": {},
     "output_type": "display_data"
    }
   ],
   "source": [
    "def quick_test_existing_data():\n",
    "    endpoint_name = \"test-async-endpoint2\"\n",
    "    input_data = \"s3://greenenergy-ai-app-d-an2-s3-gem/async-inference-input/test-20250729100023.json\"\n",
    "    \n",
    "    print(\"🚀 기존 데이터로 빠른 테스트 시작\")\n",
    "    print(f\"입력 데이터: {input_data}\")\n",
    "    \n",
    "    runtime = boto3.client('sagemaker-runtime')\n",
    "    s3 = boto3.client('s3')\n",
    "    \n",
    "    try:\n",
    "        # Async 추론 요청\n",
    "        response = runtime.invoke_endpoint_async(\n",
    "            EndpointName=endpoint_name,\n",
    "            InputLocation=input_data,\n",
    "            ContentType='application/json'\n",
    "        )\n",
    "        \n",
    "        output_location = response['OutputLocation']\n",
    "        print(response)\n",
    "        print(f\"출력 위치: {output_location}\")\n",
    "        \n",
    "        # 결과 대기\n",
    "        import time\n",
    "        start_time = time.time()\n",
    "        \n",
    "        for i in range(300):  # 5분 대기\n",
    "            try:\n",
    "                bucket = output_location.split('/')[2]\n",
    "                print(bucket)\n",
    "                key = '/'.join(output_location.split('/')[3:])\n",
    "                print(key)\n",
    "                \n",
    "                result_obj = s3.get_object(Bucket=bucket, Key=key)\n",
    "                print(result_obj)\n",
    "                result_data = json.loads(result_obj['Body'].read())\n",
    "                print(result_data)\n",
    "                \n",
    "                elapsed_time = time.time() - start_time\n",
    "                print(f\"✅ 테스트 완료 ({elapsed_time:.2f}초)\")\n",
    "                print(f\"예측 결과 수: {len(result_data.get('predictions', []))}\")\n",
    "                print(f\"배치 크기: {result_data.get('batch_size', 'N/A')}\")\n",
    "                print(f\"첫 번째 예측값: {result_data.get('predictions', [])[:3]}\")\n",
    "                \n",
    "                return result_data\n",
    "                \n",
    "            except Exception as e:\n",
    "                if i == 299:\n",
    "                    print(f\"❌ 시간 초과: {e}\")\n",
    "                    return None\n",
    "                time.sleep(1)\n",
    "                \n",
    "    except Exception as e:\n",
    "        print(f\"❌ 테스트 실패: {e}\")\n",
    "        return None\n",
    "\n",
    "# 기존 데이터로 빠른 테스트 실행\n",
    "result = quick_test_existing_data()"
   ]
  },
  {
   "cell_type": "code",
   "execution_count": null,
   "id": "116777d3-a12d-4309-b406-3f55fab15e8a",
   "metadata": {},
   "outputs": [],
   "source": [
    "print(result)"
   ]
  },
  {
   "cell_type": "code",
   "execution_count": 49,
   "id": "f98ae00d-b96b-44c5-927d-3752d9d36d20",
   "metadata": {},
   "outputs": [
    {
     "name": "stdout",
     "output_type": "stream",
     "text": [
      "🧪 Async Inference 테스트...\n",
      "==================================================\n",
      "❌ Async 추론 실패: 'NoneType' object has no attribute 'predict_async'\n"
     ]
    }
   ],
   "source": [
    "# Async Inference 실행\n",
    "print(\"🧪 Async Inference 테스트...\")\n",
    "print(\"=\" * 50)\n",
    "\n",
    "try:\n",
    "    # 비동기 추론 시작\n",
    "    response = predictor.predict_async(\n",
    "        input_path=input_s3_uri,\n",
    "        initial_args={'ContentType': 'application/json'}\n",
    "    )\n",
    "    \n",
    "    output_location = response.output_path\n",
    "    print(f\"🚀 비동기 추론 시작됨\")\n",
    "    print(f\"📥 입력: {input_s3_uri}\")\n",
    "    print(f\"📤 출력 예상 위치: {output_location}\")\n",
    "    \n",
    "    # 결과 대기 (폴링)\n",
    "    print(\"⏳ 결과 대기 중...\")\n",
    "    \n",
    "    max_wait_time = 300  # 5분\n",
    "    wait_time = 0\n",
    "    \n",
    "    while wait_time < max_wait_time:\n",
    "        try:\n",
    "            # 출력 파일 확인\n",
    "            result = response.get_result()\n",
    "            \n",
    "            if result:\n",
    "                print(f\"✅ 추론 완료! (대기시간: {wait_time}초)\")\n",
    "                print(f\"📋 결과: {result}\")\n",
    "                \n",
    "                # 로컬 모델과 비교\n",
    "                predictions = result['predictions']\n",
    "                print(\"\\n🔍 결과 검증:\")\n",
    "                for i, (input_data, prediction) in enumerate(zip(test_data['instances'], predictions)):\n",
    "                    local_pred = model.predict([input_data])[0]\n",
    "                    diff = abs(local_pred - prediction)\n",
    "                    print(f\"  {i+1}. {input_data} → {prediction:.4f} (로컬: {local_pred:.4f}, 차이: {diff:.6f}) {'✅' if diff < 1e-6 else '⚠️'}\")\n",
    "                \n",
    "                break\n",
    "                \n",
    "        except Exception as e:\n",
    "            if \"does not exist\" in str(e) or \"NoSuchKey\" in str(e):\n",
    "                # 아직 결과가 준비되지 않음\n",
    "                time.sleep(10)\n",
    "                wait_time += 10\n",
    "                print(f\"  대기 중... ({wait_time}초)\")\n",
    "            else:\n",
    "                print(f\"❌ 오류 발생: {str(e)}\")\n",
    "                break\n",
    "    \n",
    "    if wait_time >= max_wait_time:\n",
    "        print(f\"⏰ 타임아웃: {max_wait_time}초 대기 후 결과 없음\")\n",
    "        print(f\"💡 수동으로 확인: {output_location}\")\n",
    "        \n",
    "except Exception as e:\n",
    "    print(f\"❌ Async 추론 실패: {str(e)}\")"
   ]
  },
  {
   "cell_type": "code",
   "execution_count": 50,
   "id": "c2e4c435-6b13-4219-af69-f01da3460203",
   "metadata": {},
   "outputs": [
    {
     "name": "stdout",
     "output_type": "stream",
     "text": [
      "test-async-endpoint2: InService\n",
      "gem-serverless-20250807163808: InService\n",
      "gem-serverless-20250807162410: InService\n",
      "gem-serverless-20250807162107: InService\n",
      "gem-serverless-20250807161125: InService\n",
      "gem-serverless-20250807160116: InService\n",
      "gem-serverless-20250807154129: InService\n",
      "gem-serverless-20250807151850: InService\n",
      "iris-endpoint-compatible-2025-07-21-09-19-24: InService\n"
     ]
    }
   ],
   "source": [
    "# 활성 endpoint 목록 확인\n",
    "import boto3\n",
    "sagemaker_client = boto3.client('sagemaker')\n",
    "endpoints = sagemaker_client.list_endpoints()['Endpoints']\n",
    "for ep in endpoints:\n",
    "    print(f\"{ep['EndpointName']}: {ep['EndpointStatus']}\")\n"
   ]
  },
  {
   "cell_type": "code",
   "execution_count": 51,
   "id": "eb64c56b-5be0-4751-9ee4-d35390e1febb",
   "metadata": {},
   "outputs": [
    {
     "data": {
      "text/html": [
       "<pre style=\"white-space:pre;overflow-x:auto;line-height:normal;font-family:Menlo,'DejaVu Sans Mono',consolas,'Courier New',monospace\"><span style=\"color: #ff0000; text-decoration-color: #ff0000\">╭─────────────────────────────── </span><span style=\"color: #ff0000; text-decoration-color: #ff0000; font-weight: bold\">Traceback </span><span style=\"color: #ff7f7f; text-decoration-color: #ff7f7f; font-weight: bold\">(most recent call last)</span><span style=\"color: #ff0000; text-decoration-color: #ff0000\"> ────────────────────────────────╮</span>\n",
       "<span style=\"color: #ff0000; text-decoration-color: #ff0000\">│</span> in &lt;module&gt;:2                                                                                    <span style=\"color: #ff0000; text-decoration-color: #ff0000\">│</span>\n",
       "<span style=\"color: #ff0000; text-decoration-color: #ff0000\">│</span>                                                                                                  <span style=\"color: #ff0000; text-decoration-color: #ff0000\">│</span>\n",
       "<span style=\"color: #ff0000; text-decoration-color: #ff0000\">│</span>   <span style=\"color: #7f7f7f; text-decoration-color: #7f7f7f\">1 # endpoint 이름을 알고 있다면</span>                                                                <span style=\"color: #ff0000; text-decoration-color: #ff0000\">│</span>\n",
       "<span style=\"color: #ff0000; text-decoration-color: #ff0000\">│</span> <span style=\"color: #800000; text-decoration-color: #800000\">❱ </span>2 result = test_with_boto3(<span style=\"color: #808000; text-decoration-color: #808000\">\"test-async-endpoint2\"</span>)                                             <span style=\"color: #ff0000; text-decoration-color: #ff0000\">│</span>\n",
       "<span style=\"color: #ff0000; text-decoration-color: #ff0000\">│</span>   <span style=\"color: #7f7f7f; text-decoration-color: #7f7f7f\">3 </span>                                                                                             <span style=\"color: #ff0000; text-decoration-color: #ff0000\">│</span>\n",
       "<span style=\"color: #ff0000; text-decoration-color: #ff0000\">╰──────────────────────────────────────────────────────────────────────────────────────────────────╯</span>\n",
       "<span style=\"color: #ff0000; text-decoration-color: #ff0000; font-weight: bold\">NameError: </span>name <span style=\"color: #008700; text-decoration-color: #008700\">'test_with_boto3'</span> is not defined\n",
       "</pre>\n"
      ],
      "text/plain": [
       "\u001b[38;2;255;0;0m╭─\u001b[0m\u001b[38;2;255;0;0m──────────────────────────────\u001b[0m\u001b[38;2;255;0;0m \u001b[0m\u001b[1;38;2;255;0;0mTraceback \u001b[0m\u001b[1;2;38;2;255;0;0m(most recent call last)\u001b[0m\u001b[38;2;255;0;0m \u001b[0m\u001b[38;2;255;0;0m───────────────────────────────\u001b[0m\u001b[38;2;255;0;0m─╮\u001b[0m\n",
       "\u001b[38;2;255;0;0m│\u001b[0m in <module>:2                                                                                    \u001b[38;2;255;0;0m│\u001b[0m\n",
       "\u001b[38;2;255;0;0m│\u001b[0m                                                                                                  \u001b[38;2;255;0;0m│\u001b[0m\n",
       "\u001b[38;2;255;0;0m│\u001b[0m   \u001b[2m1 \u001b[0m\u001b[2m# endpoint 이름을 알고 있다면\u001b[0m                                                                \u001b[38;2;255;0;0m│\u001b[0m\n",
       "\u001b[38;2;255;0;0m│\u001b[0m \u001b[31m❱ \u001b[0m2 result = test_with_boto3(\u001b[33m\"\u001b[0m\u001b[33mtest-async-endpoint2\u001b[0m\u001b[33m\"\u001b[0m)                                             \u001b[38;2;255;0;0m│\u001b[0m\n",
       "\u001b[38;2;255;0;0m│\u001b[0m   \u001b[2m3 \u001b[0m                                                                                             \u001b[38;2;255;0;0m│\u001b[0m\n",
       "\u001b[38;2;255;0;0m╰──────────────────────────────────────────────────────────────────────────────────────────────────╯\u001b[0m\n",
       "\u001b[1;91mNameError: \u001b[0mname \u001b[38;2;0;135;0m'test_with_boto3'\u001b[0m is not defined\n"
      ]
     },
     "metadata": {},
     "output_type": "display_data"
    }
   ],
   "source": [
    "# endpoint 이름을 알고 있다면\n",
    "result = test_with_boto3(\"test-async-endpoint2\")\n"
   ]
  },
  {
   "cell_type": "code",
   "execution_count": null,
   "id": "40e14ecf-b6f2-4157-8ffc-cb91b8060fc8",
   "metadata": {},
   "outputs": [],
   "source": []
  }
 ],
 "metadata": {
  "kernelspec": {
   "display_name": "conda_python3",
   "language": "python",
   "name": "conda_python3"
  },
  "language_info": {
   "codemirror_mode": {
    "name": "ipython",
    "version": 3
   },
   "file_extension": ".py",
   "mimetype": "text/x-python",
   "name": "python",
   "nbconvert_exporter": "python",
   "pygments_lexer": "ipython3",
   "version": "3.10.18"
  }
 },
 "nbformat": 4,
 "nbformat_minor": 5
}
